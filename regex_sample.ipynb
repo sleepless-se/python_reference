{
  "nbformat": 4,
  "nbformat_minor": 0,
  "metadata": {
    "colab": {
      "name": "regex_sample",
      "version": "0.3.2",
      "provenance": [],
      "collapsed_sections": [],
      "include_colab_link": true
    }
  },
  "cells": [
    {
      "cell_type": "markdown",
      "metadata": {
        "id": "view-in-github",
        "colab_type": "text"
      },
      "source": [
        "[View in Colaboratory](https://colab.research.google.com/github/sleepless-se/python_reference/blob/master/regex_sample.ipynb)"
      ]
    },
    {
      "metadata": {
        "id": "DzILkG5UA26H",
        "colab_type": "code",
        "colab": {
          "base_uri": "https://localhost:8080/",
          "height": 34
        },
        "outputId": "f6a2e4fd-ce01-4d12-c1c0-b9870b004e3a"
      },
      "cell_type": "code",
      "source": [
        "import re\n",
        "regex = r'disable|soldout'\n",
        "isDisable = re.compile(regex)\n",
        "match = isDisable.search(\"disable Soldout\")\n",
        "if match:\n",
        "  print(\"Yes\")\n",
        "else:\n",
        "  print(\"No\")\n"
      ],
      "execution_count": 5,
      "outputs": [
        {
          "output_type": "stream",
          "text": [
            "Yes\n"
          ],
          "name": "stdout"
        }
      ]
    },
    {
      "metadata": {
        "id": "2h8KUyc6aUyC",
        "colab_type": "code",
        "colab": {}
      },
      "cell_type": "code",
      "source": [
        ""
      ],
      "execution_count": 0,
      "outputs": []
    }
  ]
}