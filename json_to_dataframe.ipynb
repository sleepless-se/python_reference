{
  "nbformat": 4,
  "nbformat_minor": 0,
  "metadata": {
    "colab": {
      "name": "json_to_dataframe",
      "version": "0.3.2",
      "provenance": [],
      "collapsed_sections": [],
      "include_colab_link": true
    }
  },
  "cells": [
    {
      "cell_type": "markdown",
      "metadata": {
        "id": "view-in-github",
        "colab_type": "text"
      },
      "source": [
        "[View in Colaboratory](https://colab.research.google.com/github/sleepless-se/python_reference/blob/master/json_to_dataframe.ipynb)"
      ]
    },
    {
      "metadata": {
        "id": "AOY12bit7pE9",
        "colab_type": "code",
        "colab": {}
      },
      "cell_type": "code",
      "source": [
        "import json\n",
        "import pandas as pd\n",
        "\n",
        "input_data='''[ {\n",
        "  \"tag\" : \"li\",\n",
        "  \"iid\" : \"size\",\n",
        "  \"style\" : null,\n",
        "  \"text\" : null,\n",
        "  \"href\" : null,\n",
        "  \"label\" : null,\n",
        "  \"x\" : 0,\n",
        "  \"y\" : 0,\n",
        "  \"height\" : 0,\n",
        "  \"width\" : 0\n",
        "}, {\n",
        "  \"tag\" : \"div\",\n",
        "  \"iid\" : \"color\",\n",
        "  \"style\" : null,\n",
        "  \"text\" : null,\n",
        "  \"href\" : null,\n",
        "  \"label\" : null,\n",
        "  \"x\" : 0,\n",
        "  \"y\" : 0,\n",
        "  \"height\" : 0,\n",
        "  \"width\" : 0\n",
        "} ]'''\n",
        "    \n",
        "    "
      ],
      "execution_count": 0,
      "outputs": []
    },
    {
      "metadata": {
        "id": "ve_98E4WbPfX",
        "colab_type": "text"
      },
      "cell_type": "markdown",
      "source": [
        "テキスト形式のJsonをJsonクラスに変換し、Pandasで読み込みDataFrameに変換します。\n",
        "\n",
        "\n",
        "\n"
      ]
    },
    {
      "metadata": {
        "id": "2lm2U6Y27znf",
        "colab_type": "code",
        "colab": {
          "base_uri": "https://localhost:8080/",
          "height": 502
        },
        "outputId": "f6f29dc6-c50f-4fcf-e184-ab21123db103"
      },
      "cell_type": "code",
      "source": [
        "print(input_data)\n",
        "def json_to_row(input_data:str)->:\n",
        "    json_data = json.loads(input_data)\n",
        "#     for data in json_data:\n",
        "#       print(\"json_data:\\n{}\".format(data))\n",
        "#       data = [data]\n",
        "    panda_data = pd.DataFrame.from_dict(json_data, orient='columns')\n",
        "    return panda_data\n",
        "\n",
        "panda_data = json_to_row(input_data)\n",
        "panda_data"
      ],
      "execution_count": 11,
      "outputs": [
        {
          "output_type": "stream",
          "text": [
            "[ {\n",
            "  \"tag\" : \"li\",\n",
            "  \"iid\" : \"size\",\n",
            "  \"style\" : null,\n",
            "  \"text\" : null,\n",
            "  \"href\" : null,\n",
            "  \"label\" : null,\n",
            "  \"x\" : 0,\n",
            "  \"y\" : 0,\n",
            "  \"height\" : 0,\n",
            "  \"width\" : 0\n",
            "}, {\n",
            "  \"tag\" : \"div\",\n",
            "  \"iid\" : \"color\",\n",
            "  \"style\" : null,\n",
            "  \"text\" : null,\n",
            "  \"href\" : null,\n",
            "  \"label\" : null,\n",
            "  \"x\" : 0,\n",
            "  \"y\" : 0,\n",
            "  \"height\" : 0,\n",
            "  \"width\" : 0\n",
            "} ]\n"
          ],
          "name": "stdout"
        },
        {
          "output_type": "execute_result",
          "data": {
            "text/html": [
              "<div>\n",
              "<style scoped>\n",
              "    .dataframe tbody tr th:only-of-type {\n",
              "        vertical-align: middle;\n",
              "    }\n",
              "\n",
              "    .dataframe tbody tr th {\n",
              "        vertical-align: top;\n",
              "    }\n",
              "\n",
              "    .dataframe thead th {\n",
              "        text-align: right;\n",
              "    }\n",
              "</style>\n",
              "<table border=\"1\" class=\"dataframe\">\n",
              "  <thead>\n",
              "    <tr style=\"text-align: right;\">\n",
              "      <th></th>\n",
              "      <th>height</th>\n",
              "      <th>href</th>\n",
              "      <th>iid</th>\n",
              "      <th>label</th>\n",
              "      <th>style</th>\n",
              "      <th>tag</th>\n",
              "      <th>text</th>\n",
              "      <th>width</th>\n",
              "      <th>x</th>\n",
              "      <th>y</th>\n",
              "    </tr>\n",
              "  </thead>\n",
              "  <tbody>\n",
              "    <tr>\n",
              "      <th>0</th>\n",
              "      <td>0</td>\n",
              "      <td>None</td>\n",
              "      <td>size</td>\n",
              "      <td>None</td>\n",
              "      <td>None</td>\n",
              "      <td>li</td>\n",
              "      <td>None</td>\n",
              "      <td>0</td>\n",
              "      <td>0</td>\n",
              "      <td>0</td>\n",
              "    </tr>\n",
              "    <tr>\n",
              "      <th>1</th>\n",
              "      <td>0</td>\n",
              "      <td>None</td>\n",
              "      <td>color</td>\n",
              "      <td>None</td>\n",
              "      <td>None</td>\n",
              "      <td>div</td>\n",
              "      <td>None</td>\n",
              "      <td>0</td>\n",
              "      <td>0</td>\n",
              "      <td>0</td>\n",
              "    </tr>\n",
              "  </tbody>\n",
              "</table>\n",
              "</div>"
            ],
            "text/plain": [
              "   height  href    iid label style  tag  text  width  x  y\n",
              "0       0  None   size  None  None   li  None      0  0  0\n",
              "1       0  None  color  None  None  div  None      0  0  0"
            ]
          },
          "metadata": {
            "tags": []
          },
          "execution_count": 11
        }
      ]
    },
    {
      "metadata": {
        "id": "6uFNsBfd75VY",
        "colab_type": "code",
        "colab": {}
      },
      "cell_type": "code",
      "source": [
        ""
      ],
      "execution_count": 0,
      "outputs": []
    }
  ]
}