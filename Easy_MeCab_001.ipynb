{
  "nbformat": 4,
  "nbformat_minor": 0,
  "metadata": {
    "colab": {
      "name": "Easy_MeCab_001",
      "version": "0.3.2",
      "provenance": [],
      "collapsed_sections": [],
      "include_colab_link": true
    },
    "kernelspec": {
      "name": "python3",
      "display_name": "Python 3"
    },
    "accelerator": "GPU"
  },
  "cells": [
    {
      "cell_type": "markdown",
      "metadata": {
        "id": "view-in-github",
        "colab_type": "text"
      },
      "source": [
        "[View in Colaboratory](https://colab.research.google.com/github/sleepless-se/python_reference/blob/master/Easy_MeCab_001.ipynb)"
      ]
    },
    {
      "metadata": {
        "id": "FO0ZwyfjlBC1",
        "colab_type": "text"
      },
      "cell_type": "markdown",
      "source": [
        "MeCabという形態解析を行うソフトを使って分かち書きを行います。\n",
        "\n",
        "まずはMeCabのインストールを行います。\n"
      ]
    },
    {
      "metadata": {
        "id": "MzZEC1tjg8n_",
        "colab_type": "code",
        "colab": {}
      },
      "cell_type": "code",
      "source": [
        "!apt-get install mecab\n",
        "!apt-get install libmecab-dev\n",
        "!apt-get install mecab-ipadic-utf8\n",
        "!pip install mecab-python3"
      ],
      "execution_count": 0,
      "outputs": []
    },
    {
      "metadata": {
        "id": "LtzGZmvrqMUF",
        "colab_type": "text"
      },
      "cell_type": "markdown",
      "source": [
        "インストールができたので試しに形態解析をしてみます。"
      ]
    },
    {
      "metadata": {
        "id": "gb-sYfHxi7qR",
        "colab_type": "code",
        "colab": {}
      },
      "cell_type": "code",
      "source": [
        "import sys\n",
        "import MeCab\n",
        "mecab = MeCab.Tagger (\"-Ochasen\")\n",
        "text = mecab.parse (\"すもももももももものうち\")\n",
        "print(text)"
      ],
      "execution_count": 0,
      "outputs": []
    },
    {
      "metadata": {
        "id": "VYO3HO7xmsta",
        "colab_type": "text"
      },
      "cell_type": "markdown",
      "source": [
        "MeCab.Tagger (\"-Ochasen\")の -Ochasenの部分はmecabの出力モードです。\n",
        "\n",
        "1. mecabrc:(引数なし)\n",
        "1. -Ochasen: (ChaSen 互換形式)\n",
        "1. -Owakati: (分かち書きのみを出力)\n",
        "1. -Oyomi: (読みのみを出力)\n",
        "\n",
        "以上の4つのモードから選べます。\n",
        "用途に合わせて使い分けましょう。\n",
        "\n",
        "すべてOから始まっているのはいかにも日本語っぽくていいのですが、普通にwakati yomi の方が親切な気がします…\n",
        "\n",
        "\n",
        "そして、こちらが本来欲しかった分かち書きの部分です。"
      ]
    },
    {
      "metadata": {
        "id": "kSdRPfNjoueP",
        "colab_type": "code",
        "colab": {}
      },
      "cell_type": "code",
      "source": [
        "mecab = MeCab.Tagger (\"-Owakati\")\n",
        "text = mecab.parse (\"すもももももももものうち\")\n",
        "print(text)"
      ],
      "execution_count": 0,
      "outputs": []
    },
    {
      "metadata": {
        "id": "_D3tLlDdvNJf",
        "colab_type": "code",
        "colab": {}
      },
      "cell_type": "code",
      "source": [
        "file_name = \"output.txt\"\n",
        "with open(file_name,\"w\") as f:\n",
        "  f.write(text)"
      ],
      "execution_count": 0,
      "outputs": []
    },
    {
      "metadata": {
        "id": "OFxwV9tJD_Zh",
        "colab_type": "code",
        "colab": {}
      },
      "cell_type": "code",
      "source": [
        "!ls"
      ],
      "execution_count": 0,
      "outputs": []
    },
    {
      "metadata": {
        "id": "Af9QOhRywVQm",
        "colab_type": "text"
      },
      "cell_type": "markdown",
      "source": [
        "output.txt  が保存されていることが確認できたのでダウンロードします。"
      ]
    },
    {
      "metadata": {
        "id": "O2V0DF4Pv_9K",
        "colab_type": "code",
        "colab": {}
      },
      "cell_type": "code",
      "source": [
        "from google.colab import files\n",
        "files.download(file_name)"
      ],
      "execution_count": 0,
      "outputs": []
    }
  ]
}